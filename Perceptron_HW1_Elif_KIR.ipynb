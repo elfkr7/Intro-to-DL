{
  "nbformat": 4,
  "nbformat_minor": 0,
  "metadata": {
    "colab": {
      "name": "Perceptron_HW1_Elif_KIR.ipynb",
      "provenance": [],
      "collapsed_sections": [],
      "authorship_tag": "ABX9TyPBxBUJKMFv0GKWtgv2EMIJ",
      "include_colab_link": true
    },
    "kernelspec": {
      "name": "python3",
      "display_name": "Python 3"
    },
    "language_info": {
      "name": "python"
    }
  },
  "cells": [
    {
      "cell_type": "markdown",
      "metadata": {
        "id": "view-in-github",
        "colab_type": "text"
      },
      "source": [
        "<a href=\"https://colab.research.google.com/github/elfkr7/Intro-to-DL/blob/main/Perceptron_HW1_Elif_KIR.ipynb\" target=\"_parent\"><img src=\"https://colab.research.google.com/assets/colab-badge.svg\" alt=\"Open In Colab\"/></a>"
      ]
    },
    {
      "cell_type": "markdown",
      "source": [
        "Problem 8 is at the bottom."
      ],
      "metadata": {
        "id": "17DAjawxJOit"
      }
    },
    {
      "cell_type": "code",
      "execution_count": null,
      "metadata": {
        "colab": {
          "base_uri": "https://localhost:8080/"
        },
        "id": "u04namr4TixD",
        "outputId": "cb614486-4475-449f-8226-70d4d657f12a"
      },
      "outputs": [
        {
          "output_type": "stream",
          "name": "stdout",
          "text": [
            "Downloading...\n"
          ]
        }
      ],
      "source": [
        "#Import the Data\n",
        "#!/usr/bin/env python3\n",
        "\n",
        "import urllib.request\n",
        "import tarfile\n",
        "\n",
        "\n",
        "url = \"https://www.cs.toronto.edu/~kriz/cifar-10-python.tar.gz\"\n",
        "fileobj = urllib.request.urlopen(url)\n",
        "\n",
        "print('Downloading...')\n",
        "with tarfile.open(fileobj=fileobj, mode=\"r|gz\") as tar:\n",
        "    tar.extractall()"
      ]
    },
    {
      "cell_type": "markdown",
      "source": [
        ""
      ],
      "metadata": {
        "id": "WJRfM-b331b3"
      }
    },
    {
      "cell_type": "code",
      "source": [
        "\"\"\"Data preprocessing.\"\"\"\n",
        "\n",
        "import os\n",
        "import pickle\n",
        "from typing import Any, Tuple\n",
        "\n",
        "import numpy as np\n",
        "import pandas as pd\n",
        "from sklearn.preprocessing import LabelEncoder\n",
        "from sklearn.model_selection import train_test_split\n",
        "\n",
        "\n",
        "def load_pickle(f: str) -> Any:\n",
        "    \"\"\"Load a pickle file.\n",
        "\n",
        "    Parameters:\n",
        "        f: the pickle filename\n",
        "\n",
        "    Returns:\n",
        "        the pickled data\n",
        "    \"\"\"\n",
        "    return pickle.load(f, encoding=\"latin1\")\n",
        "\n",
        "\n",
        "def load_CIFAR_batch(filename: np.ndarray) -> Tuple[np.ndarray, np.ndarray]:\n",
        "    \"\"\"Load a single batch of cifar data.\n",
        "\n",
        "    Parameters:\n",
        "        filename: the pickle filename\n",
        "\n",
        "    Returns:\n",
        "        the data\n",
        "        the labels\n",
        "    \"\"\"\n",
        "    with open(filename, \"rb\") as f:\n",
        "        datadict = load_pickle(f)\n",
        "        X = datadict[\"data\"]\n",
        "        Y = datadict[\"labels\"]\n",
        "        X = X.reshape(10000, 3, 32, 32).transpose(0, 2, 3, 1).astype(\"float\")\n",
        "        Y = np.array(Y)\n",
        "        return X, Y\n",
        "\n",
        "\n",
        "def load_CIFAR10(ROOT: str) -> Tuple[np.ndarray, np.ndarray, np.ndarray, np.ndarray]:\n",
        "    \"\"\"Load all of cifar data.\n",
        "\n",
        "    Parameters:\n",
        "        ROOT: the root directory containing the data\n",
        "\n",
        "    Returns:\n",
        "        training data\n",
        "        training labels\n",
        "        testing data\n",
        "        testing labels\n",
        "    \"\"\"\n",
        "    xs = []\n",
        "    ys = []\n",
        "    for b in range(1, 6):\n",
        "        f = os.path.join(ROOT, \"data_batch_{}\".format(b))\n",
        "        X, Y = load_CIFAR_batch(f)\n",
        "        xs.append(X)\n",
        "        ys.append(Y)\n",
        "    Xtr = np.concatenate(xs)\n",
        "    Ytr = np.concatenate(ys)\n",
        "    Xte, Yte = load_CIFAR_batch(os.path.join(ROOT, \"test_batch\"))\n",
        "    return Xtr, Ytr, Xte, Yte\n",
        "\n",
        "\n",
        "def get_CIFAR10_data(\n",
        "    num_training: int = 49000,\n",
        "    num_validation: int = 1000,\n",
        "    num_test: int = 10000,\n",
        "    subtract_mean: bool = True,\n",
        "):\n",
        "    \"\"\"Load the CIFAR-10 dataset from disk and perform preprocessing to prepare\n",
        "    it for classifiers. These are the same steps as we used for the SVM, but\n",
        "    condensed to a single function.\n",
        "\n",
        "    Parameters:\n",
        "        num_training: number of training images\n",
        "        num_validation: number of validation images\n",
        "        num_test: number of test images\n",
        "        subtract_mean: whether or not to normalize the data\n",
        "\n",
        "    Returns:\n",
        "        the train/val/test data and labels\n",
        "    \"\"\"\n",
        "    # Load the raw CIFAR-10 data\n",
        "    cifar10_dir = os.path.join(\"cifar-10-batches-py\")\n",
        "    X_train, y_train, X_test, y_test = load_CIFAR10(cifar10_dir)\n",
        "    # Subsample the data\n",
        "    mask = list(range(num_training, num_training + num_validation))\n",
        "    X_val = X_train[mask]\n",
        "    y_val = y_train[mask]\n",
        "    mask = list(range(num_training))\n",
        "    X_train = X_train[mask]\n",
        "    y_train = y_train[mask]\n",
        "    mask = list(range(num_test))\n",
        "    X_test = X_test[mask]\n",
        "    y_test = y_test[mask]\n",
        "\n",
        "    # Normalize the data: subtract the mean image\n",
        "    if subtract_mean:\n",
        "        mean_image = np.mean(X_train, axis=0)\n",
        "        X_train -= mean_image\n",
        "        X_val -= mean_image\n",
        "        X_test -= mean_image\n",
        "\n",
        "    # Transpose so that channels come first\n",
        "    X_train = X_train.transpose(0, 3, 1, 2).copy()\n",
        "    X_val = X_val.transpose(0, 3, 1, 2).copy()\n",
        "    X_test = X_test.transpose(0, 3, 1, 2).copy()\n",
        "\n",
        "    # Package data into a dictionary\n",
        "    return {\n",
        "        \"X_train\": X_train,\n",
        "        \"y_train\": y_train,\n",
        "        \"X_val\": X_val,\n",
        "        \"y_val\": y_val,\n",
        "        \"X_test\": X_test,\n",
        "        \"y_test\": y_test,\n",
        "    }\n",
        "\n"
      ],
      "metadata": {
        "id": "zmBhirHRaCC0"
      },
      "execution_count": null,
      "outputs": []
    },
    {
      "cell_type": "code",
      "source": [
        "\"\"\"Utility functions for saving predictions for submission.\"\"\"\n",
        "\n",
        "import csv\n",
        "\n",
        "import numpy as np\n",
        "\n",
        "\n",
        "def write_csv(file_path: str, y_list: np.ndarray):\n",
        "    \"\"\"Write a CSV file.\n",
        "\n",
        "    Parameters:\n",
        "        file_path: name of the file to save\n",
        "        y_list: y predictions\n",
        "    \"\"\"\n",
        "    solution_rows = [(\"id\", \"category\")] + [(i, y) for (i, y) in enumerate(y_list)]\n",
        "    with open(file_path, \"w\") as f:\n",
        "        writer = csv.writer(f)\n",
        "        writer.writerows(solution_rows)\n",
        "\n",
        "\n",
        "def output_submission_csv(output_file_path: str, y_test: np.ndarray):\n",
        "    \"\"\"Save predictions.\n",
        "\n",
        "    Parameters:\n",
        "        output_file_path: name of the file to save\n",
        "        y_test: y predictions\n",
        "    \"\"\"\n",
        "    write_csv(output_file_path, y_test)\n"
      ],
      "metadata": {
        "id": "AbP17xrhg2fm"
      },
      "execution_count": null,
      "outputs": []
    },
    {
      "cell_type": "code",
      "source": [
        "#libraries\n",
        "import random\n",
        "import numpy as np\n",
        "#from data_process import get_CIFAR10_data\n",
        "from scipy.spatial import distance\n",
        "%matplotlib inline\n",
        "from save_submission import output_submission_csv"
      ],
      "metadata": {
        "id": "3-sxc4x1aKr2"
      },
      "execution_count": null,
      "outputs": []
    },
    {
      "cell_type": "code",
      "source": [
        "# You can change these numbers for experimentation\n",
        "# For submission we will use the default values \n",
        "TRAIN_IMAGES = 40000\n",
        "VAL_IMAGES = 10000"
      ],
      "metadata": {
        "id": "g3feCE2UaKuN"
      },
      "execution_count": null,
      "outputs": []
    },
    {
      "cell_type": "code",
      "source": [
        "#Split the data\n",
        "data = get_CIFAR10_data(TRAIN_IMAGES, VAL_IMAGES)\n",
        "X_train_CIFAR, y_train_CIFAR = data['X_train'], data['y_train']\n",
        "X_val_CIFAR, y_val_CIFAR = data['X_val'], data['y_val']\n",
        "X_test_CIFAR, y_test_CIFAR = data['X_test'], data['y_test']\n",
        "n_class_CIFAR = len(np.unique(y_test_CIFAR))"
      ],
      "metadata": {
        "id": "mYC5MTxhb54q"
      },
      "execution_count": null,
      "outputs": []
    },
    {
      "cell_type": "code",
      "source": [
        "#Reshape the data\n",
        "X_train_CIFAR = np.reshape(X_train_CIFAR, (X_train_CIFAR.shape[0], -1))\n",
        "X_val_CIFAR = np.reshape(X_val_CIFAR, (X_val_CIFAR.shape[0], -1))\n",
        "X_test_CIFAR = np.reshape(X_test_CIFAR, (X_test_CIFAR.shape[0], -1))\n"
      ],
      "metadata": {
        "id": "reHBdnLLb56m"
      },
      "execution_count": null,
      "outputs": []
    },
    {
      "cell_type": "code",
      "source": [
        "#Perceptron\n",
        "import numpy as np\n",
        "\n",
        "\n",
        "class Perceptron:\n",
        "    def __init__(self, n_class: int, lr: float, epochs: int):\n",
        "        \"\"\"Initialize a new classifier.\n",
        "        Parameters:\n",
        "            n_class: the number of classes\n",
        "            lr: the learning rate\n",
        "            epochs: the number of epochs to train for\n",
        "        \"\"\"\n",
        "        self.w = np.random.randn() #np.randn(3073,1) ###### TODO: change this\n",
        "        self.lr = lr #0.1 ###### TODO: change this\n",
        "        self.epochs = epochs #10 ###### TODO: change this\n",
        "        self.n_class = n_class #10 ###### TODO: change this\n",
        "\n",
        "    def train(self, X_train: np.ndarray, y_train: np.ndarray):\n",
        "        \"\"\"Train the classifier.\n",
        "        Use the perceptron update rule as introduced in Lecture 3.\n",
        "        Parameters:\n",
        "            X_train: a number array of shape (N, D) containing training data;\n",
        "                N examples with D dimensions\n",
        "            y_train: a numpy array of shape (N,) containing training labels\n",
        "        \"\"\"\n",
        "        N, D = X_train.shape\n",
        "        self.w = np.random.randn(self.n_class, D+1) #+1 for bias term \n",
        "        X_train_stacked = np.hstack((np.ones((N,1)),X_train)) #add one more dimension with full of ones\n",
        "\n",
        "        ###### YOUR CODE STARTS HERE ######\n",
        "        \n",
        "        for  epochs in range(self.epochs):\n",
        "          for p in range(N):\n",
        "            y_hat= np.dot(self.w,X_train_stacked[p])\n",
        "            y_predicted = np.argmax(y_hat, axis=0)\n",
        "            y_= y_train[p]\n",
        "            if y_!=y_predicted:\n",
        "              self.w[y_]= self.w[y_] + self.lr*X_train_stacked[p]\n",
        "              self.w[y_predicted]= self.w[y_predicted] - self.lr*X_train_stacked[p]\n",
        "          return(self.w)\n",
        "          \n",
        "         \n",
        "        ###### YOUR CODE ENDS HERE ######\n",
        "        pass\n",
        "\n",
        "    def predict(self, X_test: np.ndarray) -> np.ndarray:\n",
        "        \"\"\"Use the trained weights to predict labels for test data points.\n",
        "        Parameters:\n",
        "            X_test: a numpy array of shape (N, D) containing testing data;\n",
        "                N examples with D dimensions\n",
        "        Returns:\n",
        "            predicted labels for the data in X_test; a 1-dimensional array of\n",
        "                length N, where each element is an integer giving the predicted\n",
        "                class.\n",
        "        \"\"\"\n",
        "        N, D = X_test.shape\n",
        "        y_test = np.zeros(N)\n",
        "        ###### YOUR CODE STARTS HERE ######\n",
        "        X_test_stacked = np.hstack((np.ones((N,1)),X_test)) #add one more dimension with full of ones\n",
        "        y_hat= np.dot(self.w,X_test_stacked.T)\n",
        "        y_test = np.argmax(y_hat, axis=0)\n",
        "        ###### YOUR CODE ENDS HERE ######\n",
        "        return y_test"
      ],
      "metadata": {
        "id": "mBHKb8sNb5-I"
      },
      "execution_count": null,
      "outputs": []
    },
    {
      "cell_type": "code",
      "source": [
        "lr = 0.5\n",
        "n_epochs = 100\n",
        "\n",
        "percept_CIFAR = Perceptron(n_class_CIFAR, lr, n_epochs)\n",
        "percept_CIFAR.train(X_train_CIFAR, y_train_CIFAR)"
      ],
      "metadata": {
        "id": "0uRSFm2-b6Li",
        "colab": {
          "base_uri": "https://localhost:8080/"
        },
        "outputId": "a3a0d661-4938-430f-ada0-291a42338f5e"
      },
      "execution_count": null,
      "outputs": [
        {
          "output_type": "execute_result",
          "data": {
            "text/plain": [
              "array([[ -137.30911201,  -433.34284684,  -683.15698744, ...,\n",
              "         -617.08529548,  -571.13941257,  -821.7322969 ],\n",
              "       [ -215.38847499,    -8.27020756,  -613.25551652, ...,\n",
              "          527.52254446,    86.35963885,  -704.75568502],\n",
              "       [  257.99082957,  -419.71854385,   359.00074472, ...,\n",
              "          158.53983639,  -678.62210951,  -547.72704706],\n",
              "       ...,\n",
              "       [  116.57429984,   840.90045583,   477.25999209, ...,\n",
              "         -988.92182895,  -523.14521413,   217.6397778 ],\n",
              "       [ -222.15332887,   451.6401134 ,   216.61261532, ...,\n",
              "          530.21019269,  1273.93712702,  1074.7207764 ],\n",
              "       [ -178.20027177,  -470.48329638, -1016.11573732, ...,\n",
              "          379.68067071,   955.42267019,  1524.35104656]])"
            ]
          },
          "metadata": {},
          "execution_count": 76
        }
      ]
    },
    {
      "cell_type": "code",
      "source": [
        "#Get accuracy \n",
        "def get_acc(pred, y_test):\n",
        "  return np.sum(y_test==pred)/len(y_test)*100"
      ],
      "metadata": {
        "id": "pyr32TFQDKD2"
      },
      "execution_count": null,
      "outputs": []
    },
    {
      "cell_type": "code",
      "source": [
        "pred_percept = percept_CIFAR.predict(X_train_CIFAR)\n",
        "print('The training accuracy is given by: %f' % (get_acc(pred_percept, y_train_CIFAR)))"
      ],
      "metadata": {
        "id": "AuD9j4sMb6OH",
        "colab": {
          "base_uri": "https://localhost:8080/"
        },
        "outputId": "91ea091c-26b0-4731-9326-0c67dcd43844"
      },
      "execution_count": null,
      "outputs": [
        {
          "output_type": "stream",
          "name": "stdout",
          "text": [
            "The training accuracy is given by: 30.442500\n"
          ]
        }
      ]
    },
    {
      "cell_type": "code",
      "source": [
        "pred_percept = percept_CIFAR.predict(X_val_CIFAR)\n",
        "print('The validation accuracy is given by: %f' % (get_acc(pred_percept, y_val_CIFAR)))"
      ],
      "metadata": {
        "id": "TsDm2Llkb6QR",
        "colab": {
          "base_uri": "https://localhost:8080/"
        },
        "outputId": "39eca849-6c47-4372-ac60-282e36eabf3e"
      },
      "execution_count": null,
      "outputs": [
        {
          "output_type": "stream",
          "name": "stdout",
          "text": [
            "The validation accuracy is given by: 28.140000\n"
          ]
        }
      ]
    },
    {
      "cell_type": "code",
      "source": [
        "pred_percept = percept_CIFAR.predict(X_test_CIFAR)\n",
        "print('The testing accuracy is given by: %f' % (get_acc(pred_percept, y_test_CIFAR)))"
      ],
      "metadata": {
        "id": "-Pq7xVpRb6Tf",
        "colab": {
          "base_uri": "https://localhost:8080/"
        },
        "outputId": "05f741e1-1f25-4f44-aa66-124321f7e099"
      },
      "execution_count": null,
      "outputs": [
        {
          "output_type": "stream",
          "name": "stdout",
          "text": [
            "The testing accuracy is given by: 28.160000\n"
          ]
        }
      ]
    },
    {
      "cell_type": "code",
      "source": [
        "output_submission_csv('Perceptron_submission_CIFAR.csv', percept_CIFAR.predict(X_test_CIFAR))"
      ],
      "metadata": {
        "id": "8OwBjM-yNatr"
      },
      "execution_count": null,
      "outputs": []
    },
    {
      "cell_type": "code",
      "source": [
        "#Logistic\n",
        "\n",
        "\"\"\"Logistic regression model.\"\"\"\n",
        "from numpy.lib.arraysetops import unique\n",
        "import numpy as np\n",
        "import math\n",
        "\n",
        "\n",
        "class Logistic:\n",
        "    def __init__(self, lr: float, epochs: int):\n",
        "        \"\"\"Initialize a new classifier.\n",
        "        Parameters:\n",
        "            lr: the learning rate\n",
        "            epochs: the number of epochs to train for\n",
        "        \"\"\"\n",
        "        self.w = np.random.randn() ###### TODO: change this\n",
        "        self.lr = lr  ###### TODO: change this\n",
        "        self.epochs = epochs ###### TODO: change this\n",
        "        self.threshold = 0.5 ###### TODO: change this\n",
        "\n",
        "    def sigmoid(self, z: np.ndarray) -> np.ndarray:\n",
        "        \"\"\"Sigmoid function.\n",
        "        Parameters:\n",
        "            z: the input\n",
        "        Returns:\n",
        "            the sigmoid of the input\n",
        "        \"\"\"\n",
        "        ##### YOUR CODE STARTS HERE #####\n",
        "        ret= 1/(1 + np.exp(-z))\n",
        "        \n",
        "        ##### YOUR CODE ENDS HERE #####\n",
        "        return ret\n",
        "\n",
        "    def train(self, X_train: np.ndarray, y_train: np.ndarray):\n",
        "        \"\"\"Train the classifier.\n",
        "        Use the logistic regression update rule as introduced in lecture.\n",
        "        Parameters:\n",
        "            X_train: a numpy array of shape (N, D) containing training data;\n",
        "                N examples with D dimensions\n",
        "            y_train: a numpy array of shape (N,) containing training labels\n",
        "        \"\"\"\n",
        "        N, D = X_train.shape\n",
        "        self.w = np.random.randn(D+1) #+1 for bias term \n",
        "        X_train_stacked = np.hstack((np.ones((N,1)),X_train)) #add one more dimension with full of ones\n",
        "        \n",
        "\n",
        "        ##### YOUR CODE STARTS HERE #####\n",
        "        n_class=len(np.unique(y_train))\n",
        "        all_w=np.zeros((n_class,D+1))\n",
        "        for p in range(n_class):\n",
        "          binary_y=np.array(p==y_train,dtype=int)\n",
        "          for  epochs in range(self.epochs):\n",
        "              h=np.dot(self.w,X_train_stacked.T)\n",
        "              h=((h-min(h))/(max(h)-min(h)))#normalization to aviod infinity in sigmoid for extreme values\n",
        "              h=self.sigmoid(h)\n",
        "              grad=np.dot((h-binary_y),X_train_stacked)/N\n",
        "              self.w-=self.lr*grad\n",
        "          all_w[p]=self.w.T\n",
        "        self.w=all_w\n",
        "        return(self.w)\n",
        "\n",
        "     \n",
        "        ##### YOUR CODE ENDS HERE #####\n",
        "        pass\n",
        "\n",
        "    def predict(self, X_test: np.ndarray) -> np.ndarray:\n",
        "        \"\"\"Use the trained weights to predict labels for test data points.\n",
        "        Parameters:\n",
        "            X_test: a numpy array of shape (N, D) containing testing data;\n",
        "                N examples with D dimensions\n",
        "        Returns:\n",
        "            predicted labels for the data in X_test; a 1-dimensional array of\n",
        "                length N, where each element is an integer giving the predicted\n",
        "                class.\n",
        "        \"\"\"\n",
        "        N, D = X_test.shape\n",
        "        y_test = np.zeros(N)\n",
        "        ##### YOUR CODE STARTS HERE #####\n",
        "        X_test_stacked = np.hstack((np.ones((N,1)),X_test)) #add one more dimension with full of ones\n",
        "        y_hat= self.sigmoid(np.dot(self.w,X_test_stacked.T))\n",
        "        y_test = np.argmax(y_hat, axis=0)    \n",
        "        \n",
        "        ##### YOUR CODE ENDS HERE #####\n",
        "        return y_test"
      ],
      "metadata": {
        "id": "HhhTL6cRZix4"
      },
      "execution_count": null,
      "outputs": []
    },
    {
      "cell_type": "code",
      "source": [
        "learning_rate = 0.03\n",
        "n_epochs = 100\n",
        "\n",
        "lr = Logistic(learning_rate, n_epochs)\n",
        "lr.train(X_train_CIFAR, y_train_CIFAR)"
      ],
      "metadata": {
        "colab": {
          "base_uri": "https://localhost:8080/"
        },
        "id": "sPbSpN6vnZxd",
        "outputId": "c63fe34d-ff13-4f44-932a-7c74b7616bfb"
      },
      "execution_count": null,
      "outputs": [
        {
          "output_type": "execute_result",
          "data": {
            "text/plain": [
              "array([[ -0.7003843 ,  -0.81175956,  -1.87924774, ...,   3.98318311,\n",
              "          3.53406665,   1.50980446],\n",
              "       [ -2.2391535 ,  -1.56344586,  -2.56174846, ...,   4.89070317,\n",
              "          4.6118736 ,   2.69309659],\n",
              "       [ -3.77273144,  -2.4658642 ,  -3.25664895, ...,   2.5662606 ,\n",
              "          2.13562823,   0.09125428],\n",
              "       ...,\n",
              "       [-11.5309244 ,   0.40119672,  -0.34207332, ...,  -4.14802567,\n",
              "         -4.7725829 ,  -6.76049326],\n",
              "       [-13.1000256 ,   2.25779573,   1.45282496, ...,  -4.52532805,\n",
              "         -4.84065745,  -6.6193168 ],\n",
              "       [-14.68011719,   8.50334997,   7.59677739, ...,  -1.58052132,\n",
              "         -1.66952707,  -3.35207266]])"
            ]
          },
          "metadata": {},
          "execution_count": 87
        }
      ]
    },
    {
      "cell_type": "code",
      "source": [
        "pred_lr = lr.predict(X_train_CIFAR)\n",
        "print('The training accuracy is given by: %f' % (get_acc(pred_lr, y_train_CIFAR)))"
      ],
      "metadata": {
        "colab": {
          "base_uri": "https://localhost:8080/"
        },
        "id": "pi9Y-mVJwF5b",
        "outputId": "f8ab5d46-6f30-4451-f20c-b9fb16396f50"
      },
      "execution_count": null,
      "outputs": [
        {
          "output_type": "stream",
          "name": "stdout",
          "text": [
            "The training accuracy is given by: 17.522500\n"
          ]
        },
        {
          "output_type": "stream",
          "name": "stderr",
          "text": [
            "/usr/local/lib/python3.7/dist-packages/ipykernel_launcher.py:29: RuntimeWarning: overflow encountered in exp\n"
          ]
        }
      ]
    },
    {
      "cell_type": "code",
      "source": [
        "pred_lr = lr.predict(X_val_CIFAR)\n",
        "print('The validation accuracy is given by: %f' % (get_acc(pred_lr, y_val_CIFAR)))"
      ],
      "metadata": {
        "colab": {
          "base_uri": "https://localhost:8080/"
        },
        "id": "bzSmp38bwF9M",
        "outputId": "9ab21034-ea35-4599-df78-9fa71f2b968c"
      },
      "execution_count": null,
      "outputs": [
        {
          "output_type": "stream",
          "name": "stdout",
          "text": [
            "The validation accuracy is given by: 17.570000\n"
          ]
        },
        {
          "output_type": "stream",
          "name": "stderr",
          "text": [
            "/usr/local/lib/python3.7/dist-packages/ipykernel_launcher.py:29: RuntimeWarning: overflow encountered in exp\n"
          ]
        }
      ]
    },
    {
      "cell_type": "code",
      "source": [
        "pred_lr = lr.predict(X_test_CIFAR)\n",
        "print('The testing accuracy is given by: %f' % (get_acc(pred_lr, y_test_CIFAR)))\n",
        "\n",
        "lr\n",
        "\n"
      ],
      "metadata": {
        "colab": {
          "base_uri": "https://localhost:8080/"
        },
        "id": "Ek9gs1awmWRm",
        "outputId": "1c0d6e22-b56e-41d2-c289-5a961a0d4387"
      },
      "execution_count": null,
      "outputs": [
        {
          "output_type": "stream",
          "name": "stdout",
          "text": [
            "The testing accuracy is given by: 17.540000\n"
          ]
        },
        {
          "output_type": "stream",
          "name": "stderr",
          "text": [
            "/usr/local/lib/python3.7/dist-packages/ipykernel_launcher.py:29: RuntimeWarning: overflow encountered in exp\n"
          ]
        },
        {
          "output_type": "execute_result",
          "data": {
            "text/plain": [
              "<__main__.Logistic at 0x7f2fd9787990>"
            ]
          },
          "metadata": {},
          "execution_count": 90
        }
      ]
    },
    {
      "cell_type": "code",
      "source": [
        "output_submission_csv('Logistic_submission_CIFAR.csv', lr.predict(X_test_CIFAR))"
      ],
      "metadata": {
        "colab": {
          "base_uri": "https://localhost:8080/"
        },
        "id": "g7GoTEPnmb6_",
        "outputId": "04c7df70-d8ac-4f1c-a2b8-3b2aee13faee"
      },
      "execution_count": null,
      "outputs": [
        {
          "output_type": "stream",
          "name": "stderr",
          "text": [
            "/usr/local/lib/python3.7/dist-packages/ipykernel_launcher.py:29: RuntimeWarning: overflow encountered in exp\n"
          ]
        }
      ]
    },
    {
      "cell_type": "code",
      "source": [
        "arr_epochs=[10,30,50]\n",
        "Accuracy_train_accumulated = []\n",
        "Accuracy_test_accumulated = []\n",
        "for i in range(len(arr_epochs)):\n",
        "  lr = Logistic(0.1, arr_epochs[i])\n",
        "  lr.train(X_train_CIFAR, y_train_CIFAR)\n",
        "  pred_lr = lr.predict(X_test_CIFAR)\n",
        "  Accuracy_train_accumulated.append(lr.predict(X_train_CIFAR))\n",
        "  Accuracy_test_accumulated.append(lr.predict(X_test_CIFAR))\n",
        "\n"
      ],
      "metadata": {
        "colab": {
          "base_uri": "https://localhost:8080/"
        },
        "id": "JOTRqvjY9Tu8",
        "outputId": "6e91ed45-0d40-49cc-dcc8-fc6e0d3d415a"
      },
      "execution_count": null,
      "outputs": [
        {
          "output_type": "stream",
          "name": "stderr",
          "text": [
            "/usr/local/lib/python3.7/dist-packages/ipykernel_launcher.py:29: RuntimeWarning: overflow encountered in exp\n"
          ]
        }
      ]
    },
    {
      "cell_type": "code",
      "source": [
        "import matplotlib.pyplot as plt\n",
        "f, ax = plt.subplots(1,2,figsize=(16, 8))\n",
        "ax[0].plot(Accuracy_train_accumulated, 'h');\n",
        "ax[1].plot(Accuracy_test_accumulated, 'h')\n",
        "ax[0].set(title='Training Set Accuracy', xlabel='Number of Epochs')\n",
        "ax[1].set(title='Test Set Accuracy',xlabel='Number of Epochs')\n",
        "ax[0].grid()\n",
        "ax[1].grid()\n",
        "plt.show()"
      ],
      "metadata": {
        "colab": {
          "base_uri": "https://localhost:8080/",
          "height": 479
        },
        "id": "GDHpBiHjIhaG",
        "outputId": "acf1d512-4fd1-4c15-e6f0-e538eae4c910"
      },
      "execution_count": null,
      "outputs": [
        {
          "output_type": "display_data",
          "data": {
            "image/png": "[encoded data removed]",
            "text/plain": [
              "<Figure size 1152x576 with 2 Axes>"
            ]
          },
          "metadata": {
            "needs_background": "light"
          }
        }
      ]
    },
    {
      "cell_type": "code",
      "source": [
        "##Problem 8\n",
        "y=np.array(np.linspace(start= -20, stop= 20, num= 401, axis=0)).reshape(-1,1)\n",
        "j=np.linspace(start= 1, stop= 50, num= 50, axis=0)\n",
        "X=y**j\n",
        "#X[400]\n",
        "X"
      ],
      "metadata": {
        "colab": {
          "base_uri": "https://localhost:8080/"
        },
        "id": "5h43mmIvaDJ3",
        "outputId": "b057a3f6-3e05-43bb-b9ec-f3574181d763"
      },
      "execution_count": null,
      "outputs": [
        {
          "output_type": "execute_result",
          "data": {
            "text/plain": [
              "array([[-2.00000000e+01,  4.00000000e+02, -8.00000000e+03, ...,\n",
              "         2.81474977e+62, -5.62949953e+63,  1.12589991e+65],\n",
              "       [-1.99000000e+01,  3.96010000e+02, -7.88059900e+03, ...,\n",
              "         2.21282805e+62, -4.40352782e+63,  8.76302035e+64],\n",
              "       [-1.98000000e+01,  3.92040000e+02, -7.76239200e+03, ...,\n",
              "         1.73751728e+62, -3.44028422e+63,  6.81176275e+64],\n",
              "       ...,\n",
              "       [ 1.98000000e+01,  3.92040000e+02,  7.76239200e+03, ...,\n",
              "         1.73751728e+62,  3.44028422e+63,  6.81176275e+64],\n",
              "       [ 1.99000000e+01,  3.96010000e+02,  7.88059900e+03, ...,\n",
              "         2.21282805e+62,  4.40352782e+63,  8.76302035e+64],\n",
              "       [ 2.00000000e+01,  4.00000000e+02,  8.00000000e+03, ...,\n",
              "         2.81474977e+62,  5.62949953e+63,  1.12589991e+65]])"
            ]
          },
          "metadata": {},
          "execution_count": 44
        }
      ]
    }
  ]
}